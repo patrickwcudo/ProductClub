{
 "cells": [
  {
   "cell_type": "code",
   "execution_count": 30,
   "metadata": {},
   "outputs": [],
   "source": [
    "import pandas as pd\n",
    "\n",
    "# nltk\n",
    "import nltk\n",
    "from nltk.tokenize import word_tokenize"
   ]
  },
  {
   "cell_type": "code",
   "execution_count": 118,
   "metadata": {},
   "outputs": [],
   "source": [
    "# read in file\n",
    "df = pd.read_csv('podcast_data.csv')"
   ]
  },
  {
   "cell_type": "code",
   "execution_count": 119,
   "metadata": {},
   "outputs": [
    {
     "data": {
      "text/plain": [
       "uuid                1\n",
       "title               2\n",
       "image          117971\n",
       "description    117971\n",
       "language       117977\n",
       "categories     117977\n",
       "website        117983\n",
       "author         117983\n",
       "itunes_id      117988\n",
       "dtype: int64"
      ]
     },
     "execution_count": 119,
     "metadata": {},
     "output_type": "execute_result"
    }
   ],
   "source": [
    "# check for nulls\n",
    "df.isna().sum()"
   ]
  },
  {
   "cell_type": "code",
   "execution_count": 120,
   "metadata": {},
   "outputs": [
    {
     "data": {
      "text/html": [
       "<div>\n",
       "<style scoped>\n",
       "    .dataframe tbody tr th:only-of-type {\n",
       "        vertical-align: middle;\n",
       "    }\n",
       "\n",
       "    .dataframe tbody tr th {\n",
       "        vertical-align: top;\n",
       "    }\n",
       "\n",
       "    .dataframe thead th {\n",
       "        text-align: right;\n",
       "    }\n",
       "</style>\n",
       "<table border=\"1\" class=\"dataframe\">\n",
       "  <thead>\n",
       "    <tr style=\"text-align: right;\">\n",
       "      <th></th>\n",
       "      <th>uuid</th>\n",
       "      <th>title</th>\n",
       "      <th>image</th>\n",
       "      <th>description</th>\n",
       "      <th>language</th>\n",
       "      <th>categories</th>\n",
       "      <th>website</th>\n",
       "      <th>author</th>\n",
       "      <th>itunes_id</th>\n",
       "    </tr>\n",
       "  </thead>\n",
       "  <tbody>\n",
       "    <tr>\n",
       "      <th>49994</th>\n",
       "      <td>ade800168951427ebb1985e67328cfd9</td>\n",
       "      <td>Gary Shapiro’s</td>\n",
       "      <td>NaN</td>\n",
       "      <td>NaN</td>\n",
       "      <td>NaN</td>\n",
       "      <td>NaN</td>\n",
       "      <td>NaN</td>\n",
       "      <td>NaN</td>\n",
       "      <td>NaN</td>\n",
       "    </tr>\n",
       "    <tr>\n",
       "      <th>66229</th>\n",
       "      <td>e36656092ffe4d1fa483eef6c0376443</td>\n",
       "      <td>MikeChase’s</td>\n",
       "      <td>NaN</td>\n",
       "      <td>NaN</td>\n",
       "      <td>NaN</td>\n",
       "      <td>NaN</td>\n",
       "      <td>NaN</td>\n",
       "      <td>NaN</td>\n",
       "      <td>NaN</td>\n",
       "    </tr>\n",
       "    <tr>\n",
       "      <th>66230</th>\n",
       "      <td>e36656092ffe4d1fa483eef6c0376443</td>\n",
       "      <td>MikeChase’s</td>\n",
       "      <td>NaN</td>\n",
       "      <td>NaN</td>\n",
       "      <td>NaN</td>\n",
       "      <td>NaN</td>\n",
       "      <td>NaN</td>\n",
       "      <td>NaN</td>\n",
       "      <td>NaN</td>\n",
       "    </tr>\n",
       "    <tr>\n",
       "      <th>66231</th>\n",
       "      <td>e36656092ffe4d1fa483eef6c0376443</td>\n",
       "      <td>MikeChase’s</td>\n",
       "      <td>NaN</td>\n",
       "      <td>NaN</td>\n",
       "      <td>NaN</td>\n",
       "      <td>NaN</td>\n",
       "      <td>NaN</td>\n",
       "      <td>NaN</td>\n",
       "      <td>NaN</td>\n",
       "    </tr>\n",
       "    <tr>\n",
       "      <th>66232</th>\n",
       "      <td>e36656092ffe4d1fa483eef6c0376443</td>\n",
       "      <td>MikeChase’s</td>\n",
       "      <td>NaN</td>\n",
       "      <td>NaN</td>\n",
       "      <td>NaN</td>\n",
       "      <td>NaN</td>\n",
       "      <td>NaN</td>\n",
       "      <td>NaN</td>\n",
       "      <td>NaN</td>\n",
       "    </tr>\n",
       "    <tr>\n",
       "      <th>...</th>\n",
       "      <td>...</td>\n",
       "      <td>...</td>\n",
       "      <td>...</td>\n",
       "      <td>...</td>\n",
       "      <td>...</td>\n",
       "      <td>...</td>\n",
       "      <td>...</td>\n",
       "      <td>...</td>\n",
       "      <td>...</td>\n",
       "    </tr>\n",
       "    <tr>\n",
       "      <th>196606</th>\n",
       "      <td>35000521222c4cbbb20b6830db298786</td>\n",
       "      <td>Junction City First</td>\n",
       "      <td>NaN</td>\n",
       "      <td>NaN</td>\n",
       "      <td>NaN</td>\n",
       "      <td>NaN</td>\n",
       "      <td>NaN</td>\n",
       "      <td>NaN</td>\n",
       "      <td>NaN</td>\n",
       "    </tr>\n",
       "    <tr>\n",
       "      <th>196607</th>\n",
       "      <td>35000521222c4cbbb20b6830db298786</td>\n",
       "      <td>Junction City First</td>\n",
       "      <td>NaN</td>\n",
       "      <td>NaN</td>\n",
       "      <td>NaN</td>\n",
       "      <td>NaN</td>\n",
       "      <td>NaN</td>\n",
       "      <td>NaN</td>\n",
       "      <td>NaN</td>\n",
       "    </tr>\n",
       "    <tr>\n",
       "      <th>200319</th>\n",
       "      <td>6a779d45981e4fc795b7db731f969674</td>\n",
       "      <td>Grow in Grace</td>\n",
       "      <td>NaN</td>\n",
       "      <td>NaN</td>\n",
       "      <td>NaN</td>\n",
       "      <td>NaN</td>\n",
       "      <td>NaN</td>\n",
       "      <td>NaN</td>\n",
       "      <td>NaN</td>\n",
       "    </tr>\n",
       "    <tr>\n",
       "      <th>213783</th>\n",
       "      <td>&amp;#xA;무게가 약간있는 돼지털 같은 방송으로</td>\n",
       "      <td>NaN</td>\n",
       "      <td>NaN</td>\n",
       "      <td>NaN</td>\n",
       "      <td>NaN</td>\n",
       "      <td>NaN</td>\n",
       "      <td>NaN</td>\n",
       "      <td>NaN</td>\n",
       "      <td>NaN</td>\n",
       "    </tr>\n",
       "    <tr>\n",
       "      <th>213784</th>\n",
       "      <td>&amp;#xA;약간의 음악이 있는 고품격 방송</td>\n",
       "      <td>NaN</td>\n",
       "      <td>NaN</td>\n",
       "      <td>NaN</td>\n",
       "      <td>NaN</td>\n",
       "      <td>NaN</td>\n",
       "      <td>NaN</td>\n",
       "      <td>NaN</td>\n",
       "      <td>NaN</td>\n",
       "    </tr>\n",
       "  </tbody>\n",
       "</table>\n",
       "<p>117971 rows × 9 columns</p>\n",
       "</div>"
      ],
      "text/plain": [
       "                                    uuid                title image  \\\n",
       "49994   ade800168951427ebb1985e67328cfd9       Gary Shapiro’s   NaN   \n",
       "66229   e36656092ffe4d1fa483eef6c0376443          MikeChase’s   NaN   \n",
       "66230   e36656092ffe4d1fa483eef6c0376443          MikeChase’s   NaN   \n",
       "66231   e36656092ffe4d1fa483eef6c0376443          MikeChase’s   NaN   \n",
       "66232   e36656092ffe4d1fa483eef6c0376443          MikeChase’s   NaN   \n",
       "...                                  ...                  ...   ...   \n",
       "196606  35000521222c4cbbb20b6830db298786  Junction City First   NaN   \n",
       "196607  35000521222c4cbbb20b6830db298786  Junction City First   NaN   \n",
       "200319  6a779d45981e4fc795b7db731f969674        Grow in Grace   NaN   \n",
       "213783         &#xA;무게가 약간있는 돼지털 같은 방송으로                  NaN   NaN   \n",
       "213784            &#xA;약간의 음악이 있는 고품격 방송                  NaN   NaN   \n",
       "\n",
       "       description language categories website author  itunes_id  \n",
       "49994          NaN      NaN        NaN     NaN    NaN        NaN  \n",
       "66229          NaN      NaN        NaN     NaN    NaN        NaN  \n",
       "66230          NaN      NaN        NaN     NaN    NaN        NaN  \n",
       "66231          NaN      NaN        NaN     NaN    NaN        NaN  \n",
       "66232          NaN      NaN        NaN     NaN    NaN        NaN  \n",
       "...            ...      ...        ...     ...    ...        ...  \n",
       "196606         NaN      NaN        NaN     NaN    NaN        NaN  \n",
       "196607         NaN      NaN        NaN     NaN    NaN        NaN  \n",
       "200319         NaN      NaN        NaN     NaN    NaN        NaN  \n",
       "213783         NaN      NaN        NaN     NaN    NaN        NaN  \n",
       "213784         NaN      NaN        NaN     NaN    NaN        NaN  \n",
       "\n",
       "[117971 rows x 9 columns]"
      ]
     },
     "execution_count": 120,
     "metadata": {},
     "output_type": "execute_result"
    }
   ],
   "source": [
    "# locate nulls\n",
    "df.loc[df['description'].isna() == True]"
   ]
  },
  {
   "cell_type": "code",
   "execution_count": 121,
   "metadata": {},
   "outputs": [],
   "source": [
    "# drop nulls\n",
    "df.dropna(inplace=True)"
   ]
  },
  {
   "cell_type": "code",
   "execution_count": 122,
   "metadata": {},
   "outputs": [
    {
     "data": {
      "text/plain": [
       "(96100, 9)"
      ]
     },
     "execution_count": 122,
     "metadata": {},
     "output_type": "execute_result"
    }
   ],
   "source": [
    "df.shape"
   ]
  },
  {
   "cell_type": "code",
   "execution_count": 123,
   "metadata": {},
   "outputs": [
    {
     "data": {
      "text/plain": [
       "16023"
      ]
     },
     "execution_count": 123,
     "metadata": {},
     "output_type": "execute_result"
    }
   ],
   "source": [
    "# explore catergories \n",
    "df['categories'].nunique()"
   ]
  },
  {
   "cell_type": "code",
   "execution_count": 124,
   "metadata": {},
   "outputs": [
    {
     "data": {
      "text/plain": [
       "Religion & Spirituality | Christianity                                                          False\n",
       "Christianity | Religion & Spirituality                                                          False\n",
       "Music                                                                                           False\n",
       "Comedy                                                                                          False\n",
       "Society & Culture                                                                               False\n",
       "                                                                                                ...  \n",
       "Educational Technology | Podcasting | Education | Technology | Software How-To                   True\n",
       "Society & Culture | Education | Personal Journals | Health | Higher Education | Self-Help        True\n",
       "Technology | Religion & Spirituality | Podcasting | Christianity                                 True\n",
       "Non-Profit | Government & Organizations | Christianity | Religion & Spirituality | Education     True\n",
       "Christianity | Technology | Religion & Spirituality | Podcasting                                 True\n",
       "Name: categories, Length: 16023, dtype: bool"
      ]
     },
     "execution_count": 124,
     "metadata": {},
     "output_type": "execute_result"
    }
   ],
   "source": [
    "# looking for categories with less than 2 observations\n",
    "df['categories'].value_counts() < 2"
   ]
  },
  {
   "cell_type": "code",
   "execution_count": 125,
   "metadata": {},
   "outputs": [],
   "source": [
    "# dropping categories with less than 2 observations, using index\n",
    "cat_drop = df.groupby('categories').filter(lambda x : len(x)<100).index\n",
    "# drop\n",
    "df.drop(cat_drop, inplace=True)"
   ]
  },
  {
   "cell_type": "code",
   "execution_count": 126,
   "metadata": {},
   "outputs": [
    {
     "data": {
      "text/plain": [
       "74"
      ]
     },
     "execution_count": 126,
     "metadata": {},
     "output_type": "execute_result"
    }
   ],
   "source": [
    "# unique catergories left\n",
    "df['categories'].nunique()"
   ]
  },
  {
   "cell_type": "code",
   "execution_count": 129,
   "metadata": {},
   "outputs": [
    {
     "data": {
      "text/plain": [
       "Religion & Spirituality | Christianity    0.133354\n",
       "Christianity | Religion & Spirituality    0.111179\n",
       "Music                                     0.084152\n",
       "Comedy                                    0.076913\n",
       "Society & Culture                         0.067985\n",
       "                                            ...   \n",
       "Visual Arts | Arts                        0.001627\n",
       "Religion & Spirituality | Judaism         0.001612\n",
       "Natural Sciences | Science & Medicine     0.001597\n",
       "Amateur | Sports & Recreation             0.001521\n",
       "Society & Culture | Comedy                0.001521\n",
       "Name: categories, Length: 74, dtype: float64"
      ]
     },
     "execution_count": 129,
     "metadata": {},
     "output_type": "execute_result"
    }
   ],
   "source": [
    "# value counts on remaining categories\n",
    "df['categories'].value_counts(normalize=True)"
   ]
  },
  {
   "cell_type": "code",
   "execution_count": 131,
   "metadata": {},
   "outputs": [],
   "source": [
    "# tranisition to descriptions"
   ]
  },
  {
   "cell_type": "code",
   "execution_count": 132,
   "metadata": {},
   "outputs": [],
   "source": [
    "# create a list of tokenized descriptions\n",
    "description_list = []\n",
    "for description in df['description']:\n",
    "    try:\n",
    "        description_list.append(word_tokenize(description))\n",
    "    except:\n",
    "        description_list.append('')\n",
    "        print(description)"
   ]
  },
  {
   "cell_type": "code",
   "execution_count": 133,
   "metadata": {},
   "outputs": [],
   "source": [
    "# create new column with tokenize lists\n",
    "df['token_description'] = description_list"
   ]
  },
  {
   "cell_type": "code",
   "execution_count": 139,
   "metadata": {},
   "outputs": [],
   "source": [
    "# use .apply to take words out of list\n",
    "df['token_description'] = df['token_description'].apply(', '.join)"
   ]
  },
  {
   "cell_type": "code",
   "execution_count": 140,
   "metadata": {},
   "outputs": [
    {
     "data": {
      "text/plain": [
       "0         Listen, in, as, the, Practical, Ecommerce, edi...\n",
       "1         On, the, show, we, ’, ll, be, talking, to, pas...\n",
       "2         A, podcast, about, soundtracks, and, movies, f...\n",
       "6         Living, Water, Dayton, 's, weekly, sermons, th...\n",
       "14                                Podcast, by, Far, From.TV\n",
       "                                ...                        \n",
       "214082    Silly, banter, from, some, dumb, 20, odd, year...\n",
       "214083    BAFTA, is, a, world-leading, independent, arts...\n",
       "214084      Podcast, by, Justus, Ta'rique, &, R., Alexander\n",
       "214085    JOY, 's, jazz, show, playing, everything, from...\n",
       "214087    My, ultimate, goal, is, to, teach, you, how, t...\n",
       "Name: token_description, Length: 65750, dtype: object"
      ]
     },
     "execution_count": 140,
     "metadata": {},
     "output_type": "execute_result"
    }
   ],
   "source": [
    "# output\n",
    "df['token_description']"
   ]
  },
  {
   "cell_type": "code",
   "execution_count": 142,
   "metadata": {},
   "outputs": [],
   "source": [
    "# use countvectorizor to create sparse matrix of words\n",
    "# imports\n",
    "from sklearn.feature_extraction.text import CountVectorizer"
   ]
  },
  {
   "cell_type": "code",
   "execution_count": 143,
   "metadata": {},
   "outputs": [],
   "source": [
    "cvec = CountVectorizer()"
   ]
  },
  {
   "cell_type": "code",
   "execution_count": 144,
   "metadata": {},
   "outputs": [],
   "source": [
    "description_cvec = cvec.fit_transform(df['token_description'])"
   ]
  },
  {
   "cell_type": "code",
   "execution_count": 145,
   "metadata": {},
   "outputs": [
    {
     "data": {
      "text/plain": [
       "<AxesSubplot:>"
      ]
     },
     "execution_count": 145,
     "metadata": {},
     "output_type": "execute_result"
    },
    {
     "data": {
      "image/png": "[encoded data removed]",
      "text/plain": [
       "<Figure size 432x288 with 1 Axes>"
      ]
     },
     "metadata": {
      "needs_background": "light"
     },
     "output_type": "display_data"
    }
   ],
   "source": [
    "# create plot of common words\n",
    "cvec_df = pd.DataFrame(description_cvec.todense(), columns=cvec.get_feature_names())\n",
    "# return top 50 words\n",
    "cvec_df.sum().sort_values(ascending=False).head(50).plot(kind='barh');"
   ]
  },
  {
   "cell_type": "code",
   "execution_count": null,
   "metadata": {},
   "outputs": [],
   "source": []
  }
 ],
 "metadata": {
  "kernelspec": {
   "display_name": "Python 3",
   "language": "python",
   "name": "python3"
  },
  "language_info": {
   "codemirror_mode": {
    "name": "ipython",
    "version": 3
   },
   "file_extension": ".py",
   "mimetype": "text/x-python",
   "name": "python",
   "nbconvert_exporter": "python",
   "pygments_lexer": "ipython3",
   "version": "3.8.5"
  }
 },
 "nbformat": 4,
 "nbformat_minor": 4
}
